{
  "nbformat": 4,
  "nbformat_minor": 0,
  "metadata": {
    "colab": {
      "provenance": []
    },
    "kernelspec": {
      "name": "python3",
      "display_name": "Python 3"
    },
    "language_info": {
      "name": "python"
    }
  },
  "cells": [
    {
      "cell_type": "code",
      "execution_count": null,
      "metadata": {
        "colab": {
          "base_uri": "https://localhost:8080/",
          "height": 213
        },
        "id": "oq6cgP4CfDPV",
        "outputId": "59b6a21f-63af-4e07-8275-96c620062972"
      },
      "outputs": [
        {
          "output_type": "error",
          "ename": "NameError",
          "evalue": "name 'L' is not defined",
          "traceback": [
            "\u001b[0;31m---------------------------------------------------------------------------\u001b[0m",
            "\u001b[0;31mNameError\u001b[0m                                 Traceback (most recent call last)",
            "\u001b[0;32m<ipython-input-19-465ee5d7be28>\u001b[0m in \u001b[0;36m<cell line: 32>\u001b[0;34m()\u001b[0m\n\u001b[1;32m     30\u001b[0m print(L)'''\n\u001b[1;32m     31\u001b[0m \u001b[0;32mdel\u001b[0m\u001b[0;34m(\u001b[0m\u001b[0mL\u001b[0m\u001b[0;34m)\u001b[0m\u001b[0;34m\u001b[0m\u001b[0;34m\u001b[0m\u001b[0m\n\u001b[0;32m---> 32\u001b[0;31m \u001b[0mprint\u001b[0m\u001b[0;34m(\u001b[0m\u001b[0mL\u001b[0m\u001b[0;34m)\u001b[0m\u001b[0;34m\u001b[0m\u001b[0;34m\u001b[0m\u001b[0m\n\u001b[0m\u001b[1;32m     33\u001b[0m \u001b[0;34m\u001b[0m\u001b[0m\n",
            "\u001b[0;31mNameError\u001b[0m: name 'L' is not defined"
          ]
        }
      ],
      "source": [
        "1.L=[11,12,13,14]\n",
        "L.append(50)\n",
        "#print(L)\n",
        "L.append(60)\n",
        "#print(L)\n",
        "'''L.remove(11)\n",
        "print(L)\n",
        "L.remove(13)\n",
        "print(L)\n",
        "L.sort()\n",
        "print(L)\n",
        "L.sort(reverse=True)\n",
        "print(L)\n",
        "L.index(13)\n",
        "a=len(L)\n",
        "print(\"The number of elements in L is:\",a)\n",
        "a=sum(L)\n",
        "print(\"The sum of elements in the list is:\",a)\n",
        "even_sum=0\n",
        "odd_sum=0\n",
        "for j in range(len(L[j])):\n",
        "    if(L[j]%2)==0:\n",
        "        even_sum+=L[j]\n",
        "\n",
        "    else:\n",
        "        odd_sum+=L[j]\n",
        "print(\"The sum of even numbers in the list is :\",even_sum)\n",
        "print(\"The sum of odd numbers in the list is:\",odd_sum)\n",
        "a=L.clear()\n",
        "print(L)\n",
        "del(L)\n",
        "print(L)'''\n",
        "\n"
      ]
    },
    {
      "cell_type": "code",
      "source": [
        "import random\n",
        "import string\n",
        "for i in range(100):\n",
        "    length = random.randint(6, 8)\n",
        "    random_string = ''.join(random.choices(string.ascii_letters + string.digits, k=length))\n",
        "    print(random_string)\n"
      ],
      "metadata": {
        "colab": {
          "base_uri": "https://localhost:8080/"
        },
        "id": "zVp0vtaBTtxW",
        "outputId": "c9b25255-39e8-458b-cd80-cecc2227c044"
      },
      "execution_count": null,
      "outputs": [
        {
          "output_type": "stream",
          "name": "stdout",
          "text": [
            "oRsPJa\n",
            "L3raQof0\n",
            "FXRHiI\n",
            "OGywG1\n",
            "4y7fBcf\n",
            "R9o8dL\n",
            "M0Hj4bv\n",
            "pzxRZ0\n",
            "AS2elQw\n",
            "va2zE3\n",
            "C4wyHCZE\n",
            "jrpip8\n",
            "DvuLkOC\n",
            "3qD9kk\n",
            "tix5V9Pz\n",
            "KcjBTfV3\n",
            "W9qOzGD\n",
            "GUjnEMaP\n",
            "gZrWp0U4\n",
            "NpAvWDPG\n",
            "7wigtFXy\n",
            "nOLPYuTc\n",
            "gUWsFR\n",
            "GmMLbk9H\n",
            "O1byZ10q\n",
            "IyoMMW\n",
            "osxH3Yvu\n",
            "IinOgL\n",
            "2FhUrnT\n",
            "B3TdltW\n",
            "u5v33mw\n",
            "85UiNa2g\n",
            "0VbQGDa\n",
            "MhPJph\n",
            "NGqhr3Ax\n",
            "LdayjbQb\n",
            "cQQKpNPT\n",
            "gBr9LQ\n",
            "P2baaLf\n",
            "WL6iDVdj\n",
            "UCxDnV\n",
            "yaKlar0\n",
            "paJWFPqf\n",
            "ChNVZEsF\n",
            "Hzby9YQ\n",
            "EY847Wsq\n",
            "L3zl4O\n",
            "ti35Uk\n",
            "C1GhiBGT\n",
            "aodP2W\n",
            "na944I4A\n",
            "SYIUw9\n",
            "GZQs1e\n",
            "NukZTQ2\n",
            "z5VhzG\n",
            "NLQxX6p3\n",
            "fFxXWN\n",
            "6wjqLPQ4\n",
            "F6tpCsG\n",
            "GEr3LFv\n",
            "HAZlBb2e\n",
            "iiI2gWh\n",
            "mAtZFw\n",
            "CtItBpC\n",
            "kLmM2R\n",
            "DSNVuwO\n",
            "mc9GYGq\n",
            "AIgvzN3d\n",
            "udkoc7p\n",
            "1tmgwhpu\n",
            "vMUwL1\n",
            "LA3MxBW\n",
            "S1ED5R\n",
            "0qetoFR\n",
            "TDYzxpKg\n",
            "6DlVmS\n",
            "yPPURlPL\n",
            "WfiYMF9O\n",
            "LGhcPNR\n",
            "UhkkOc\n",
            "nigCyn\n",
            "FrrJnAZk\n",
            "Iv4ipR\n",
            "Qjqg9gH2\n",
            "T1qSdd\n",
            "d2SftPL\n",
            "JYWnUZE\n",
            "USoglh\n",
            "X6TFk3ye\n",
            "bKNWVHPf\n",
            "LdBJeAGl\n",
            "R8caeZ\n",
            "vksZoR\n",
            "JJBRbxM\n",
            "rgRDqlc\n",
            "FKpHw1Fr\n",
            "5SrsFD\n",
            "hwz8s2o\n",
            "9yxwlp\n",
            "Miv5eit7\n"
          ]
        }
      ]
    },
    {
      "cell_type": "code",
      "source": [
        "start = 600\n",
        "end = 800\n",
        "\n",
        "for num in range(start, end + 1):\n",
        "    if num <= 1:\n",
        "        continue\n",
        "    if num == 2:\n",
        "        print(num)\n",
        "        continue\n",
        "    if num % 2 == 0:\n",
        "        continue\n",
        "    is_prime = True\n",
        "    for i in range(3, int(num**0.5) + 1, 2):\n",
        "        if num % i == 0:\n",
        "            is_prime = False\n",
        "            break\n",
        "    if is_prime:\n",
        "        print(num)\n"
      ],
      "metadata": {
        "colab": {
          "base_uri": "https://localhost:8080/"
        },
        "id": "6IKkZJ4xUwV6",
        "outputId": "ef3ce6a6-439b-4f61-aff3-a40a5883c55c"
      },
      "execution_count": null,
      "outputs": [
        {
          "output_type": "stream",
          "name": "stdout",
          "text": [
            "601\n",
            "607\n",
            "613\n",
            "617\n",
            "619\n",
            "631\n",
            "641\n",
            "643\n",
            "647\n",
            "653\n",
            "659\n",
            "661\n",
            "673\n",
            "677\n",
            "683\n",
            "691\n",
            "701\n",
            "709\n",
            "719\n",
            "727\n",
            "733\n",
            "739\n",
            "743\n",
            "751\n",
            "757\n",
            "761\n",
            "769\n",
            "773\n",
            "787\n",
            "797\n"
          ]
        }
      ]
    },
    {
      "cell_type": "code",
      "source": [
        "\n",
        "start = 100\n",
        "end = 1000\n",
        "\n",
        "# Iterate through the range\n",
        "for num in range(start, end + 1):\n",
        "    if num % 7 == 0 and num % 9 == 0:\n",
        "        print(num)\n"
      ],
      "metadata": {
        "colab": {
          "base_uri": "https://localhost:8080/"
        },
        "id": "rK6r60umVQ3u",
        "outputId": "1699f91d-baf9-4754-ae9b-58457570cbec"
      },
      "execution_count": null,
      "outputs": [
        {
          "output_type": "stream",
          "name": "stdout",
          "text": [
            "126\n",
            "189\n",
            "252\n",
            "315\n",
            "378\n",
            "441\n",
            "504\n",
            "567\n",
            "630\n",
            "693\n",
            "756\n",
            "819\n",
            "882\n",
            "945\n"
          ]
        }
      ]
    },
    {
      "cell_type": "code",
      "source": [
        "2. lst = [10, 20, 30, 40, 50]\n",
        " lst_sum = 0\n",
        " for i in lst:\n",
        "\tlst_sum += i\n",
        "print(lst_sum)\n"
      ],
      "metadata": {
        "id": "4xkCmXdJBpFX",
        "colab": {
          "base_uri": "https://localhost:8080/"
        },
        "outputId": "8cb77521-2cb4-4e39-e012-5ebf90dd06b8"
      },
      "execution_count": null,
      "outputs": [
        {
          "output_type": "stream",
          "name": "stdout",
          "text": [
            "150\n"
          ]
        }
      ]
    },
    {
      "cell_type": "code",
      "source": [
        "\n",
        "exam_st_date = (11, 12, 2014)\n",
        "\n",
        "day, month, year = exam_st_date\n",
        "\n",
        "print(\"The examination will start on: {}/{}/{}\".format(day, month, year))\n"
      ],
      "metadata": {
        "colab": {
          "base_uri": "https://localhost:8080/"
        },
        "id": "0MM0hAFoVhdF",
        "outputId": "ee463300-44e3-43d5-e576-4f0452fff595"
      },
      "execution_count": null,
      "outputs": [
        {
          "output_type": "stream",
          "name": "stdout",
          "text": [
            "The examination will start on: 11/12/2014\n"
          ]
        }
      ]
    },
    {
      "cell_type": "code",
      "source": [
        "\n",
        "numbers = [10, 23, 45, 68, 90, 121, 150, 200]\n",
        "\n",
        "\n",
        "for num in numbers:\n",
        "    if num % 5 == 0:\n",
        "        print(num)\n"
      ],
      "metadata": {
        "colab": {
          "base_uri": "https://localhost:8080/"
        },
        "id": "IXd8ew_LVzko",
        "outputId": "b1a4fa06-dd6c-4ed8-da7e-2592f1f15aa2"
      },
      "execution_count": null,
      "outputs": [
        {
          "output_type": "stream",
          "name": "stdout",
          "text": [
            "10\n",
            "45\n",
            "90\n",
            "150\n",
            "200\n"
          ]
        }
      ]
    },
    {
      "cell_type": "code",
      "source": [
        "\n",
        "number = int(input(\"Enter the number:\"))\n",
        "is_even = (number % 2 == 0)\n",
        "is_odd = (number % 2 != 0)\n",
        "\n",
        "if is_even:\n",
        "    print(f\"The number {number} is even.\")\n",
        "elif is_odd:\n",
        "    print(f\"The number {number} is odd.\")\n"
      ],
      "metadata": {
        "colab": {
          "base_uri": "https://localhost:8080/"
        },
        "id": "6J0o4xPAWKDh",
        "outputId": "8dcdf208-bde0-4bc3-f5c0-6a0eeb3b5345"
      },
      "execution_count": null,
      "outputs": [
        {
          "output_type": "stream",
          "name": "stdout",
          "text": [
            "Enter the number:4\n",
            "The number 4 is even.\n"
          ]
        }
      ]
    },
    {
      "cell_type": "code",
      "source": [
        "\n",
        "given_string = \"Emma is a common name. Emma loves programming. Emma is also a great friend.\"\n",
        "\n",
        "substring = \"Emma\"\n",
        "\n",
        "\n",
        "count = given_string.count(substring)\n",
        "\n",
        "\n",
        "print(f\"The substring '{substring}' appears {count} times in the given string.\")\n"
      ],
      "metadata": {
        "colab": {
          "base_uri": "https://localhost:8080/"
        },
        "id": "yrxBlbk-WWs9",
        "outputId": "f9bb3710-658a-4862-e2f0-52ebf3d4b059"
      },
      "execution_count": null,
      "outputs": [
        {
          "output_type": "stream",
          "name": "stdout",
          "text": [
            "The substring 'Emma' appears 3 times in the given string.\n"
          ]
        }
      ]
    },
    {
      "cell_type": "code",
      "source": [
        "\n",
        "list1 = [1, 2, 3, 4, 5, 6, 7, 8, 9]\n",
        "list2 = [10, 11, 12, 13, 14, 15, 16, 17, 18]\n",
        "\n",
        "\n",
        "new_list = [num for num in list1 if num % 2 != 0] + [num for num in list2 if num % 2 == 0]\n",
        "\n",
        "print(\"The new list is:\", new_list)\n"
      ],
      "metadata": {
        "colab": {
          "base_uri": "https://localhost:8080/"
        },
        "id": "fnLYJHB_WklY",
        "outputId": "4fead827-65ef-4668-d135-511de7c0d700"
      },
      "execution_count": null,
      "outputs": [
        {
          "output_type": "stream",
          "name": "stdout",
          "text": [
            "The new list is: [1, 3, 5, 7, 9, 10, 12, 14, 16, 18]\n"
          ]
        }
      ]
    },
    {
      "cell_type": "code",
      "source": [
        "lst=[10,20,30,40,50]\n",
        "lst_mult=1\n",
        "for i in lst:\n",
        "  lst_mult*=i\n",
        "print(lst_mult)"
      ],
      "metadata": {
        "colab": {
          "base_uri": "https://localhost:8080/"
        },
        "id": "cMWWX5nlhlN8",
        "outputId": "9b8de3e8-2352-43d1-fa9f-184c679b48fb"
      },
      "execution_count": null,
      "outputs": [
        {
          "output_type": "stream",
          "name": "stdout",
          "text": [
            "12000000\n"
          ]
        }
      ]
    },
    {
      "cell_type": "code",
      "source": [
        "D={1:5.6,2:7.8,3:6.6,4:8.7,5:7.7}\n",
        "D[8]=8.8\n",
        "'''print(D)\n",
        "D.pop(2)\n",
        "print(D)\n",
        "if 6 in D.keys():\n",
        "  print(\"6 is present\")\n",
        "else:\n",
        "  print(\"Not present\")\n",
        "a=len(D)\n",
        "print(a)\n",
        "a=sum(D.values())\n",
        "print(a)\n",
        "D[3]=7.1\n",
        "print(D)'''\n",
        "a=D.clear()\n",
        "print(D)"
      ],
      "metadata": {
        "id": "TSQsjebqiDBK",
        "colab": {
          "base_uri": "https://localhost:8080/"
        },
        "outputId": "3371ff6c-7548-4b27-bf95-f0b7ad8b42d2"
      },
      "execution_count": null,
      "outputs": [
        {
          "output_type": "stream",
          "name": "stdout",
          "text": [
            "{}\n"
          ]
        }
      ]
    },
    {
      "cell_type": "code",
      "source": [
        "S1={10,20,30,40,50,60}\n",
        "S2={40,50,60,70,80,90}\n",
        "'''S1.add(55)\n",
        "S1.add(66)\n",
        "\n",
        "print(S1)\n",
        "S1.remove(10)\n",
        "S1.remove(30)\n",
        "print(S1)\n",
        "res= 40 in S1\n",
        "print(res)'''\n",
        "a=S1.union(S2)\n",
        "print(a)\n",
        "b=S1.intersection(S2)\n",
        "print(b)\n",
        "c=S1-S2\n",
        "print(c)"
      ],
      "metadata": {
        "colab": {
          "base_uri": "https://localhost:8080/"
        },
        "id": "BugHK59YvHtf",
        "outputId": "f9c31251-3233-4741-d63b-ec8ce6cb54a8"
      },
      "execution_count": null,
      "outputs": [
        {
          "output_type": "stream",
          "name": "stdout",
          "text": [
            "{70, 40, 10, 80, 50, 20, 90, 60, 30}\n",
            "{40, 50, 60}\n",
            "{10, 20, 30}\n"
          ]
        }
      ]
    }
  ]
}