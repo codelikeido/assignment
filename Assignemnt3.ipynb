{
  "nbformat": 4,
  "nbformat_minor": 0,
  "metadata": {
    "colab": {
      "provenance": [],
      "toc_visible": true
    },
    "kernelspec": {
      "name": "python3",
      "display_name": "Python 3"
    },
    "language_info": {
      "name": "python"
    }
  },
  "cells": [
    {
      "cell_type": "code",
      "execution_count": 2,
      "metadata": {
        "colab": {
          "base_uri": "https://localhost:8080/"
        },
        "id": "symgabFUFlr0",
        "outputId": "170f94c7-eb3e-4664-9d30-400ae6dff419"
      },
      "outputs": [
        {
          "output_type": "stream",
          "name": "stdout",
          "text": [
            "Enter a number: 3\n",
            "The result is: 14.0\n"
          ]
        }
      ],
      "source": [
        "def calculate_difference(number):\n",
        "\n",
        "    difference = number - 17\n",
        "    abs_difference = abs(difference)\n",
        "\n",
        "\n",
        "    if number > 17:\n",
        "        return 2 * abs_difference\n",
        "    else:\n",
        "\n",
        "        return abs_difference\n",
        "\n",
        "\n",
        "number = float(input(\"Enter a number: \"))\n",
        "result = calculate_difference(number)\n",
        "print(\"The result is:\", result)\n"
      ]
    },
    {
      "cell_type": "code",
      "source": [
        "def is_within_range(number):\n",
        "\n",
        "    if 100 <= number <= 1000 or number == 2000:\n",
        "        return True\n",
        "    else:\n",
        "        return False\n",
        "\n",
        "number = float(input(\"Enter a number: \"))\n",
        "if is_within_range(number):\n",
        "    print(\"The number is within the specified range.\")\n",
        "else:\n",
        "    print(\"The number is not within the specified range.\")\n"
      ],
      "metadata": {
        "colab": {
          "base_uri": "https://localhost:8080/"
        },
        "id": "nqqAU34YMboR",
        "outputId": "9b7b13ed-4e5a-45ab-ebef-06ca8a75e283"
      },
      "execution_count": 3,
      "outputs": [
        {
          "output_type": "stream",
          "name": "stdout",
          "text": [
            "Enter a number: 4\n",
            "The number is not within the specified range.\n"
          ]
        }
      ]
    },
    {
      "cell_type": "code",
      "source": [
        "def reverse_string(s):\n",
        "\n",
        "    return s[::-1]\n",
        "\n",
        "\n",
        "input_string = input(\"Enter a string to reverse: \")\n",
        "reversed_string = reverse_string(input_string)\n",
        "print(\"Reversed string:\", reversed_string)\n"
      ],
      "metadata": {
        "colab": {
          "base_uri": "https://localhost:8080/"
        },
        "id": "ZH9mSa7ZM289",
        "outputId": "f357a6bd-2e0f-4ff3-a073-67c6fa7d44a7"
      },
      "execution_count": 4,
      "outputs": [
        {
          "output_type": "stream",
          "name": "stdout",
          "text": [
            "Enter a string to reverse: black\n",
            "Reversed string: kcalb\n"
          ]
        }
      ]
    },
    {
      "cell_type": "code",
      "source": [
        "def count_case_letters(s):\n",
        "\n",
        "    upper_count = 0\n",
        "    lower_count = 0\n",
        "\n",
        "\n",
        "    for char in s:\n",
        "        if char.isupper():\n",
        "            upper_count += 1\n",
        "        elif char.islower():\n",
        "            lower_count += 1\n",
        "\n",
        "    return upper_count, lower_count\n",
        "\n",
        "\n",
        "input_string = input(\"Enter a string: \")\n",
        "upper_count, lower_count = count_case_letters(input_string)\n",
        "print(f\"Number of uppercase letters: {upper_count}\")\n",
        "print(f\"Number of lowercase letters: {lower_count}\")\n"
      ],
      "metadata": {
        "colab": {
          "base_uri": "https://localhost:8080/"
        },
        "id": "GxSxvARnM7yB",
        "outputId": "8bb84db2-d0eb-4022-fbc1-2d1169bbe874"
      },
      "execution_count": 5,
      "outputs": [
        {
          "output_type": "stream",
          "name": "stdout",
          "text": [
            "Enter a string: dog\n",
            "Number of uppercase letters: 0\n",
            "Number of lowercase letters: 3\n"
          ]
        }
      ]
    },
    {
      "cell_type": "code",
      "source": [
        "def distinct_elements(lst):\n",
        "\n",
        "    unique_set = set(lst)\n",
        "\n",
        "    unique_list = list(unique_set)\n",
        "    return unique_list\n",
        "\n",
        "\n",
        "input_list = [1, 2, 2, 3, 4, 4, 5, 1, 6]\n",
        "result = distinct_elements(input_list)\n",
        "print(\"List with distinct elements:\", result)\n"
      ],
      "metadata": {
        "colab": {
          "base_uri": "https://localhost:8080/"
        },
        "id": "_y_qGCsINKwl",
        "outputId": "c0467d8d-8c6a-459c-ecec-b6aa965c369b"
      },
      "execution_count": 8,
      "outputs": [
        {
          "output_type": "stream",
          "name": "stdout",
          "text": [
            "List with distinct elements: [1, 2, 3, 4, 5, 6]\n"
          ]
        }
      ]
    },
    {
      "cell_type": "code",
      "source": [
        "def print_even_numbers(lst):\n",
        "\n",
        "    for number in lst:\n",
        "        if number % 2 == 0:\n",
        "            print(number)\n",
        "\n",
        "\n",
        "sample_list = [1, 2, 3, 4, 5, 6, 7, 8, 9]\n",
        "\n",
        "\n",
        "print(\"Even numbers in the list:\")\n",
        "print_even_numbers(sample_list)"
      ],
      "metadata": {
        "colab": {
          "base_uri": "https://localhost:8080/"
        },
        "id": "UnFCsIsYNZUr",
        "outputId": "906ce80f-3a18-4f7e-901b-31bac49a8ee1"
      },
      "execution_count": 9,
      "outputs": [
        {
          "output_type": "stream",
          "name": "stdout",
          "text": [
            "Even numbers in the list:\n",
            "2\n",
            "4\n",
            "6\n",
            "8\n"
          ]
        }
      ]
    },
    {
      "cell_type": "code",
      "source": [
        "def outer_function(x):\n",
        "\n",
        "    def inner_function(y):\n",
        "        return y * y\n",
        "\n",
        "\n",
        "    result = inner_function(x)\n",
        "    return result\n",
        "\n",
        "number = 5\n",
        "result = outer_function(number)\n",
        "print(f\"The square of {number} is {result}\")\n"
      ],
      "metadata": {
        "colab": {
          "base_uri": "https://localhost:8080/"
        },
        "id": "0UfIC8tzNxf6",
        "outputId": "4a7d8c6b-56ad-4723-bea6-e68631b59e3c"
      },
      "execution_count": 10,
      "outputs": [
        {
          "output_type": "stream",
          "name": "stdout",
          "text": [
            "The square of 5 is 25\n"
          ]
        }
      ]
    },
    {
      "cell_type": "code",
      "source": [
        "def student(name, age, grade):\n",
        "\n",
        "    pass\n",
        "\n",
        "def display_argument_names(func):\n",
        "\n",
        "    code_object = func.__code__\n",
        "\n",
        "    arg_names = code_object.co_varnames[:code_object.co_argcount]\n",
        "\n",
        "    print(\"Argument names:\", arg_names)\n",
        "\n",
        "\n",
        "display_argument_names(student)\n"
      ],
      "metadata": {
        "colab": {
          "base_uri": "https://localhost:8080/"
        },
        "id": "2GWZYSh7N7aL",
        "outputId": "6a3d561d-ef90-4092-f048-54bfe8a0e46d"
      },
      "execution_count": 11,
      "outputs": [
        {
          "output_type": "stream",
          "name": "stdout",
          "text": [
            "Argument names: ('name', 'age', 'grade')\n"
          ]
        }
      ]
    },
    {
      "cell_type": "code",
      "source": [
        "class Student:\n",
        "    def __init__(self, student_id, student_name, student_class):\n",
        "\n",
        "        self.student_id = student_id\n",
        "        self.student_name = student_name\n",
        "        self.student_class = student_class\n",
        "\n",
        "    def display_attributes(self):\n",
        "        print(f\"Student ID: {self.student_id}\")\n",
        "        print(f\"Student Name: {self.student_name}\")\n",
        "        print(f\"Student Class: {self.student_class}\")\n",
        "\n",
        "\n",
        "student1 = Student(student_id=\"S123\", student_name=\"Alice\", student_class=\"10A\")\n",
        "\n",
        "student1.display_attributes()\n"
      ],
      "metadata": {
        "colab": {
          "base_uri": "https://localhost:8080/"
        },
        "id": "gXri3qgKOI4O",
        "outputId": "ce865941-1900-4324-ca5c-649de3e257d1"
      },
      "execution_count": 13,
      "outputs": [
        {
          "output_type": "stream",
          "name": "stdout",
          "text": [
            "Student ID: S123\n",
            "Student Name: Alice\n",
            "Student Class: 10A\n"
          ]
        }
      ]
    },
    {
      "cell_type": "code",
      "source": [
        "class Student:\n",
        "    def __init__(self, student_id, student_name, student_class):\n",
        "        # Initialize the attributes\n",
        "        self.student_id = student_id\n",
        "        self.student_name = student_name\n",
        "        self.student_class = student_class\n",
        "\n",
        "    def display_attributes(self):\n",
        "        # Display all attributes and their values in the given format\n",
        "        print(f\"Student ID: {self.student_id}\")\n",
        "        print(f\"Student Name: {self.student_name}\")\n",
        "        print(f\"Student Class: {self.student_class}\")\n",
        "\n",
        "# Create two Student objects\n",
        "student1 = Student(student_id=\"S101\", student_name=\"John Doe\", student_class=\"12B\")\n",
        "student2 = Student(student_id=\"S102\", student_name=\"Jane Smith\", student_class=\"11A\")\n",
        "\n",
        "# Print attributes of student1\n",
        "print(\"Attributes of student1:\")\n",
        "student1.display_attributes()\n",
        "print()\n",
        "\n",
        "# Print attributes of student2\n",
        "print(\"Attributes of student2:\")\n",
        "student2.display_attributes()\n"
      ],
      "metadata": {
        "colab": {
          "base_uri": "https://localhost:8080/"
        },
        "id": "sErgHFwjOVIr",
        "outputId": "34e05ae9-97e3-4c85-883a-abd212a7510d"
      },
      "execution_count": 15,
      "outputs": [
        {
          "output_type": "stream",
          "name": "stdout",
          "text": [
            "Attributes of student1:\n",
            "Student ID: S101\n",
            "Student Name: John Doe\n",
            "Student Class: 12B\n",
            "\n",
            "Attributes of student2:\n",
            "Student ID: S102\n",
            "Student Name: Jane Smith\n",
            "Student Class: 11A\n"
          ]
        }
      ]
    },
    {
      "cell_type": "code",
      "source": [
        "import math\n",
        "\n",
        "class Circle:\n",
        "    def __init__(self, radius):\n",
        "        # Initialize the radius attribute\n",
        "        self.radius = radius\n",
        "\n",
        "    def area(self):\n",
        "        # Compute and return the area of the circle\n",
        "        return math.pi * (self.radius ** 2)\n",
        "\n",
        "    def perimeter(self):\n",
        "        # Compute and return the perimeter (circumference) of the circle\n",
        "        return 2 * math.pi * self.radius\n",
        "\n",
        "\n",
        "circle = Circle(radius=5)\n",
        "\n",
        "# Print the area and perimeter of the circle\n",
        "print(f\"Area of the circle: {circle.area()}\")\n",
        "print(f\"Perimeter (circumference) of the circle: {circle.perimeter()}\")\n"
      ],
      "metadata": {
        "colab": {
          "base_uri": "https://localhost:8080/"
        },
        "id": "gwv7oPGaOlfu",
        "outputId": "eb9d5d97-6c2c-4c4d-9a59-a456a52122e1"
      },
      "execution_count": 16,
      "outputs": [
        {
          "output_type": "stream",
          "name": "stdout",
          "text": [
            "Area of the circle: 78.53981633974483\n",
            "Perimeter (circumference) of the circle: 31.41592653589793\n"
          ]
        }
      ]
    },
    {
      "cell_type": "code",
      "source": [
        "class StringProcessor:\n",
        "    def __init__(self):\n",
        "\n",
        "        self.text = \"\"\n",
        "\n",
        "    def get_String(self):\n",
        "\n",
        "        self.text = input(\"Enter a string: \")\n",
        "\n",
        "    def print_String(self):\n",
        "\n",
        "        print(self.text.upper())\n",
        "\n",
        "processor = StringProcessor()\n",
        "\n",
        "\n",
        "processor.get_String()\n",
        "\n",
        "\n",
        "processor.print_String()\n"
      ],
      "metadata": {
        "colab": {
          "base_uri": "https://localhost:8080/"
        },
        "id": "L7aQAW0BOs7_",
        "outputId": "68fb916d-385a-4ff1-89cc-0c3870067f45"
      },
      "execution_count": 17,
      "outputs": [
        {
          "output_type": "stream",
          "name": "stdout",
          "text": [
            "Enter a string: aastha\n",
            "AASTHA\n"
          ]
        }
      ]
    },
    {
      "cell_type": "code",
      "source": [
        "#basic calculator code\n",
        "import re\n",
        "\n",
        "class BasicCalculator:\n",
        "    def __init__(self):\n",
        "        self.expression = \"\"\n",
        "\n",
        "    def get_expression(self):\n",
        "        self.expression = input(\"Enter an arithmetic expression: \")\n",
        "\n",
        "    def evaluate_expression(self):\n",
        "        try:\n",
        "            result = eval(self.expression)\n",
        "            return result\n",
        "        except ZeroDivisionError:\n",
        "            return \"Error: Division by zero is not allowed.\"\n",
        "        except (SyntaxError, NameError):\n",
        "            return \"Error: Invalid input. Please enter a valid arithmetic expression.\"\n",
        "\n",
        "    def display_result(self):\n",
        "        result = self.evaluate_expression()\n",
        "        print(f\"Result: {result}\")\n",
        "\n",
        "\n",
        "calculator = BasicCalculator()\n",
        "\n",
        "while True:\n",
        "    calculator.get_expression()\n",
        "    calculator.display_result()\n",
        "\n",
        "\n",
        "    continue_calculating = input(\"Do you want to perform another calculation? (yes/no): \").strip().lower()\n",
        "    if continue_calculating != 'yes':\n",
        "        break\n"
      ],
      "metadata": {
        "id": "Fe9daK0OO7rE"
      },
      "execution_count": null,
      "outputs": []
    }
  ]
}