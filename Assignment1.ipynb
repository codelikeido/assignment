{
  "nbformat": 4,
  "nbformat_minor": 0,
  "metadata": {
    "colab": {
      "provenance": []
    },
    "kernelspec": {
      "name": "python3",
      "display_name": "Python 3"
    },
    "language_info": {
      "name": "python"
    }
  },
  "cells": [
    {
      "cell_type": "code",
      "source": [
        "fname=input(\"Enter the first name:\")\n",
        "lname=input(\"Enter the last name:\")\n",
        "print(\"The name originally is:\",fname,lname)\n",
        "print(\"The name now is:\",lname,fname)"
      ],
      "metadata": {
        "colab": {
          "base_uri": "https://localhost:8080/"
        },
        "id": "5YN_vMwTWzjC",
        "outputId": "49ffba58-6e3a-417f-e797-17cb9ae904ed"
      },
      "execution_count": null,
      "outputs": [
        {
          "output_type": "stream",
          "name": "stdout",
          "text": [
            "Enter the first name:Aastha\n",
            "Enter the last name:Mahajan\n",
            "The name originally is: Aastha Mahajan\n",
            "The name now is: Mahajan Aastha\n"
          ]
        }
      ]
    },
    {
      "cell_type": "code",
      "source": [
        "num=int(input(\"Enter a positive integer\"))\n",
        "sum_num=0\n",
        "for i in range(1,num+1):\n",
        "  sum_num+=i*i\n",
        "print(\"Sum of squares:\",sum_num)"
      ],
      "metadata": {
        "colab": {
          "base_uri": "https://localhost:8080/"
        },
        "id": "-yKPEqLUDt3x",
        "outputId": "c3fffcab-ce41-4f1a-8212-ec2c16348cbc"
      },
      "execution_count": null,
      "outputs": [
        {
          "output_type": "stream",
          "name": "stdout",
          "text": [
            "Enter a positive integer4\n",
            "Sum of squares: 30\n"
          ]
        }
      ]
    },
    {
      "cell_type": "code",
      "source": [
        "num=int(input(\"Enter a positive integer:\"))\n",
        "if(num>1):\n",
        "  for i in range(2,num):\n",
        "    if (num%i==0):\n",
        "      print(\"Not a Prime Number.\")\n",
        "      break\n",
        "    else:\n",
        "      print(\"Prime Number\")\n",
        "else:\n",
        "  (\"The number entered is not a prime number\")"
      ],
      "metadata": {
        "colab": {
          "base_uri": "https://localhost:8080/"
        },
        "id": "xO7bgXwGEV7i",
        "outputId": "77a5ff48-6562-469f-86f8-a855ad5686d3"
      },
      "execution_count": null,
      "outputs": [
        {
          "output_type": "stream",
          "name": "stdout",
          "text": [
            "Enter a positive integer:3\n",
            "Prime Number\n"
          ]
        }
      ]
    },
    {
      "cell_type": "code",
      "source": [
        "color_list=['Red','Green','White','Black']\n",
        "print(color_list[0])\n",
        "print(color_list[3])"
      ],
      "metadata": {
        "colab": {
          "base_uri": "https://localhost:8080/"
        },
        "id": "OGBaVlRk7_eS",
        "outputId": "4214be6c-1e9e-4f44-b587-06ca65b7d06f"
      },
      "execution_count": null,
      "outputs": [
        {
          "output_type": "stream",
          "name": "stdout",
          "text": [
            "Red\n",
            "Black\n"
          ]
        }
      ]
    },
    {
      "cell_type": "code",
      "source": [
        "lst=input(\"Enter a list of numbers:\")\n",
        "list=lst.split()\n",
        "tuple=tuple(list)\n",
        "print(\"The list of elements is:\",list)\n",
        "print(\"The tuple of elements is:\",tuple)"
      ],
      "metadata": {
        "colab": {
          "base_uri": "https://localhost:8080/"
        },
        "id": "OM47UcPS8lPj",
        "outputId": "e6b8eb59-8d20-40e5-c474-49d853921ea1"
      },
      "execution_count": null,
      "outputs": [
        {
          "output_type": "stream",
          "name": "stdout",
          "text": [
            "Enter a list of numbers:3 4 5 6\n",
            "The list of elements is: ['3', '4', '5', '6']\n",
            "The tuple of elements is: ('3', '4', '5', '6')\n"
          ]
        }
      ]
    },
    {
      "cell_type": "code",
      "source": [
        "val1=int(input(\"Enter first number:\"))\n",
        "val2=int(input(\"Enter second number:\"))\n",
        "print(\"The numbers before swapping are:\",val1,val2)\n",
        "val1,val2=val2,val1\n",
        "print(\"The numbers ater swapping are:\",val1,val2)"
      ],
      "metadata": {
        "colab": {
          "base_uri": "https://localhost:8080/"
        },
        "id": "0j_Kagd5AcoC",
        "outputId": "97f7e0a3-9097-4162-b575-085fc078ac1a"
      },
      "execution_count": null,
      "outputs": [
        {
          "output_type": "stream",
          "name": "stdout",
          "text": [
            "Enter first number:88\n",
            "Enter second number:56\n",
            "The numbers before swapping are: 88 56\n",
            "The numbers ater swapping are: 56 88\n"
          ]
        }
      ]
    },
    {
      "cell_type": "code",
      "source": [
        "num=int(input(\"Enter a number:\"))\n",
        "if(num%2==0):\n",
        "  print(\"The number is even\")\n",
        "else:\n",
        "  print(\"The number is odd\")"
      ],
      "metadata": {
        "colab": {
          "base_uri": "https://localhost:8080/"
        },
        "id": "GyFSU9wu-im3",
        "outputId": "4a3dd5a8-cad2-4ac9-de15-0c3878cb892b"
      },
      "execution_count": null,
      "outputs": [
        {
          "output_type": "stream",
          "name": "stdout",
          "text": [
            "Enter a number:67\n",
            "The number is odd\n"
          ]
        }
      ]
    },
    {
      "cell_type": "code",
      "source": [
        "x1=float(input(\"Enter the x1 value:\"))\n",
        "x2=float(input(\"Enter the x2 value:\"))\n",
        "y1=float(input(\"Enter the y1 value:\"))\n",
        "y2=float(input(\"Enter the y2 value:\"))\n",
        "euc_distance=((x2-x1)**2+(y2-y1)**2)**0.5\n",
        "print(\"The euclidean distance between the two values is:\",euc_distance)"
      ],
      "metadata": {
        "colab": {
          "base_uri": "https://localhost:8080/"
        },
        "id": "NWdYWpcvKnt2",
        "outputId": "54db5acc-265b-43e5-ca63-630470e730d7"
      },
      "execution_count": null,
      "outputs": [
        {
          "output_type": "stream",
          "name": "stdout",
          "text": [
            "Enter the x1 value:56.3\n",
            "Enter the x2 value:21.1\n",
            "Enter the y1 value:1.5\n",
            "Enter the y2 value:34.3\n",
            "The euclidean distance between the two values is: 48.11319985201566\n"
          ]
        }
      ]
    },
    {
      "cell_type": "code",
      "source": [
        "angle1=int(input(\"Enter the first angle:\"))\n",
        "angle2=int(input(\"Enter the second angle:\"))\n",
        "angle3=int(input(\"Enter the third angle:\"))\n",
        "if(angle1+angle2+angle3==180 and angle1!=0 and angle2!=0 and angle2!=0):\n",
        "  print(\"The angles can form a triangle.\")\n",
        "else:\n",
        "  print(\"The angles can't form a triangle.\")"
      ],
      "metadata": {
        "colab": {
          "base_uri": "https://localhost:8080/"
        },
        "id": "N1X9iOliNP6k",
        "outputId": "75942cff-3c36-4eba-a199-8a41ae3f7c21"
      },
      "execution_count": null,
      "outputs": [
        {
          "output_type": "stream",
          "name": "stdout",
          "text": [
            "Enter the first angle:50\n",
            "Enter the second angle:80\n",
            "Enter the third angle:50\n",
            "The angles can form a triangle.\n"
          ]
        }
      ]
    },
    {
      "cell_type": "code",
      "source": [
        "princ=float(input(\"Enter the principlle amount:\"))\n",
        "rate=float(input(\"Enter the rate amount:\"))\n",
        "time=float(input(\"Enter the time:\"))\n",
        "amount=princ*(1+(rate/100))**time\n",
        "comp_interest=amount-princ\n",
        "print(\"The compound interest is:\",comp_interest)"
      ],
      "metadata": {
        "colab": {
          "base_uri": "https://localhost:8080/"
        },
        "id": "Y2fR6TyIRAQP",
        "outputId": "c4070c2a-ca46-4204-9119-30ca9c0887d0"
      },
      "execution_count": null,
      "outputs": [
        {
          "output_type": "stream",
          "name": "stdout",
          "text": [
            "Enter the principlle amount:56.8\n",
            "Enter the rate amount:78.4\n",
            "Enter the time:4.5\n",
            "The compound interest is: 711.666891011692\n"
          ]
        }
      ]
    },
    {
      "cell_type": "code",
      "source": [
        "num=int(input(\"Enter a positive integer:\"))\n",
        "if"
      ],
      "metadata": {
        "id": "ohClRF31TrA5"
      },
      "execution_count": null,
      "outputs": []
    },
    {
      "cell_type": "code",
      "source": [
        "cel_temp=float(input(\"Enter the temperature in celcius:\"))\n",
        "conver_sion=(cel_temp*9/5)+32\n",
        "print(\"The temperature conversion from celcius to fahrenheit is:\",conver_sion)"
      ],
      "metadata": {
        "colab": {
          "base_uri": "https://localhost:8080/"
        },
        "id": "WNnrahgEWENt",
        "outputId": "c3c68a6d-d6e8-402e-a17f-cd9e291a76a7"
      },
      "execution_count": null,
      "outputs": [
        {
          "output_type": "stream",
          "name": "stdout",
          "text": [
            "Enter the temperature in celcius:67.6\n",
            "The temperature conversion from celcius to fahrenheit is: 153.68\n"
          ]
        }
      ]
    },
    {
      "cell_type": "code",
      "source": [],
      "metadata": {
        "id": "0lz6WeTEXZ_q"
      },
      "execution_count": null,
      "outputs": []
    },
    {
      "cell_type": "code",
      "source": [
        "year=int(input(\"Enter a year:\"))\n",
        "if((year%4==0 and year%100!=0) or(year%400==0)):\n",
        "  print(\"The year is a leap year.\")\n",
        "else:\n",
        "  print(\"The year is not a leap year.\")"
      ],
      "metadata": {
        "id": "clQeeAt-F-PF"
      },
      "execution_count": null,
      "outputs": []
    },
    {
      "cell_type": "code",
      "source": [
        "num=input(\"Enter the number:\")\n",
        "f1=num\n",
        "f2=num+num\n",
        "f3=num+num+num\n",
        "print(f1,f2,f3)"
      ],
      "metadata": {
        "colab": {
          "base_uri": "https://localhost:8080/"
        },
        "id": "C3lrGCBu-WLi",
        "outputId": "0bbee34a-1c38-4daf-a919-7538a396662a"
      },
      "execution_count": null,
      "outputs": [
        {
          "output_type": "stream",
          "name": "stdout",
          "text": [
            "Enter the number:5\n",
            "5 55 555\n"
          ]
        }
      ]
    },
    {
      "cell_type": "code",
      "source": [
        "rad=int(input(\"Enter the radius of circle:\"))\n",
        "print(\"The area of circle is :\",3.14*rad*rad)"
      ],
      "metadata": {
        "colab": {
          "base_uri": "https://localhost:8080/"
        },
        "id": "VV1Je9fyYFi-",
        "outputId": "19939d56-cff3-49f5-a6da-fc719da7e47a"
      },
      "execution_count": null,
      "outputs": [
        {
          "output_type": "stream",
          "name": "stdout",
          "text": [
            "Enter the radius of circle:567\n",
            "The area of circle is : 1009475.4600000001\n"
          ]
        }
      ]
    },
    {
      "cell_type": "code",
      "execution_count": null,
      "metadata": {
        "colab": {
          "base_uri": "https://localhost:8080/"
        },
        "id": "j350JyVIUJP3",
        "outputId": "9c217129-5f7a-44b3-b2bc-17afd340c25a"
      },
      "outputs": [
        {
          "output_type": "stream",
          "name": "stdout",
          "text": [
            "Twinkle,Twinkle little star,\n",
            " How I wonder what you are \n",
            " Up above in the world so high,\n",
            " like a diamond in the sky!\n"
          ]
        }
      ],
      "source": [
        "print(\"Twinkle,Twinkle little star,\\n How I wonder what you are \\n Up above in the world so high,\\n like a diamond in the sky!\")"
      ]
    }
  ]
}